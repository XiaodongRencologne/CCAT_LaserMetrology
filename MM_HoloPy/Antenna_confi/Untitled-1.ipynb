{
 "cells": [
  {
   "cell_type": "code",
   "execution_count": 1,
   "metadata": {},
   "outputs": [],
   "source": [
    "import pandas as pd\n",
    "import yaml\n",
    "import numpy as np\n",
    "import json"
   ]
  },
  {
   "cell_type": "code",
   "execution_count": 2,
   "metadata": {},
   "outputs": [],
   "source": [
    "Lm = 6000\n",
    "Theta_0 = 0.927295218001612"
   ]
  },
  {
   "cell_type": "code",
   "execution_count": 3,
   "metadata": {},
   "outputs": [
    {
     "data": {
      "text/plain": [
       "0.463647609000806"
      ]
     },
     "execution_count": 3,
     "metadata": {},
     "output_type": "execute_result"
    }
   ],
   "source": [
    "Theta_0/2"
   ]
  },
  {
   "cell_type": "code",
   "execution_count": 4,
   "metadata": {},
   "outputs": [],
   "source": [
    "filename = 'FYST_configuration.xlsx'\n",
    "sheets_dict = pd.read_excel(filename,sheet_name = \"Panels_m2\", engine=\"openpyxl\")\n",
    "M2_info = sheets_dict.set_index(sheets_dict.columns[0]).to_dict(orient=\"index\")\n",
    "sheets_dict = pd.read_excel(filename,sheet_name = \"Panels_m1\", engine=\"openpyxl\")\n",
    "M1_info = sheets_dict.set_index(sheets_dict.columns[0]).to_dict(orient=\"index\")"
   ]
  },
  {
   "cell_type": "code",
   "execution_count": 5,
   "metadata": {},
   "outputs": [],
   "source": [
    "key_list = ['CenterX', 'CenterY', 'SizeX', 'SizeY']\n",
    "M2 = {\n",
    "            'panels': { key :[M2_info[key][item] for item in key_list] for key in M2_info},\n",
    "            'PolySurf':  np.genfromtxt('coeffi_m2.txt',delimiter = ',').tolist(),\n",
    "            'coor_sys':{ 'origin': [0,-4800,0],\n",
    "                         'rotation_angle':[-1.2490457723982542,0,0],\n",
    "                         'rotation_axis': 'xyz'}\n",
    "}\n",
    "M1 = {\n",
    "            'panels': { key :[M1_info[key][item] for item in key_list] for key in M1_info},\n",
    "            'PolySurf':  np.genfromtxt('coeffi_m1.txt',delimiter = ',').tolist(),\n",
    "            'coor_sys':{ 'origin': [0,0,3600],\n",
    "                         'rotation_angle':[-0.463647609000806,0,0],\n",
    "                         'rotation_axis': 'xyz'}\n",
    "}\n",
    "\n",
    "FYST = {'M2': M2,\n",
    "        'M1': M1}"
   ]
  },
  {
   "cell_type": "code",
   "execution_count": 6,
   "metadata": {},
   "outputs": [],
   "source": [
    "with open(\"FYST_config.yaml\",'w') as file:\n",
    "    yaml.dump(FYST,file, default_flow_style = False)"
   ]
  },
  {
   "cell_type": "code",
   "execution_count": 7,
   "metadata": {},
   "outputs": [],
   "source": [
    "with open(\"FYST_config.json\",'w') as file:\n",
    "    json.dump(FYST,file, indent = 4)"
   ]
  },
  {
   "cell_type": "code",
   "execution_count": 8,
   "metadata": {},
   "outputs": [],
   "source": [
    "with open(\"FYST_config.json\",'r') as file:\n",
    "    test_j = json.load(file)"
   ]
  },
  {
   "cell_type": "code",
   "execution_count": 9,
   "metadata": {},
   "outputs": [
    {
     "data": {
      "text/plain": [
       "dict_keys(['12391', '12491', '12591', '12691', '12791', '12281', '12381', '12481', '12581', '12681', '12781', '12881', '12171', '12271', '12371', '12471', '12571', '12671', '12771', '12871', '12971', '12161', '12261', '12361', '12461', '12561', '12661', '12761', '12861', '12961', '12151', '12251', '12351', '12451', '12551', '12651', '12751', '12851', '12951', '12141', '12241', '12341', '12441', '12541', '12641', '12741', '12841', '12941', '12131', '12231', '12331', '12431', '12531', '12631', '12731', '12831', '12931', '12221', '12321', '12421', '12521', '12621', '12721', '12821', '12311', '12411', '12511', '12611', '12711'])"
      ]
     },
     "execution_count": 9,
     "metadata": {},
     "output_type": "execute_result"
    }
   ],
   "source": [
    "test_j['M2']['panels'].keys()"
   ]
  },
  {
   "cell_type": "code",
   "execution_count": 10,
   "metadata": {},
   "outputs": [],
   "source": [
    "with open(\"FYST_config.yaml\",'r',encoding=\"utf-8\") as file:\n",
    "    test_y = yaml.safe_load(file)"
   ]
  },
  {
   "cell_type": "code",
   "execution_count": 16,
   "metadata": {},
   "outputs": [
    {
     "data": {
      "text/plain": [
       "77"
      ]
     },
     "execution_count": 16,
     "metadata": {},
     "output_type": "execute_result"
    }
   ],
   "source": [
    "len(test_y['M1']['panels'].keys())"
   ]
  },
  {
   "cell_type": "code",
   "execution_count": null,
   "metadata": {},
   "outputs": [],
   "source": []
  }
 ],
 "metadata": {
  "kernelspec": {
   "display_name": "Python 3",
   "language": "python",
   "name": "python3"
  },
  "language_info": {
   "codemirror_mode": {
    "name": "ipython",
    "version": 3
   },
   "file_extension": ".py",
   "mimetype": "text/x-python",
   "name": "python",
   "nbconvert_exporter": "python",
   "pygments_lexer": "ipython3",
   "version": "3.9.20"
  }
 },
 "nbformat": 4,
 "nbformat_minor": 2
}
